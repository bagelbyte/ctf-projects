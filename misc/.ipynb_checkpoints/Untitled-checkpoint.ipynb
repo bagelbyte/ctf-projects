{
 "cells": [
  {
   "cell_type": "code",
   "execution_count": 1,
   "id": "4c57b244-947e-40f0-8ec2-a1d64cef9f69",
   "metadata": {},
   "outputs": [],
   "source": [
    "from z3 import *"
   ]
  },
  {
   "cell_type": "code",
   "execution_count": 6,
   "id": "36d102f6-e86b-40c6-9199-054efa2f038b",
   "metadata": {},
   "outputs": [],
   "source": [
    "s = Solver()\n",
    "\n",
    "def second_question_function(a1, a2):\n",
    "    return (12 * (a2 - ord('0')) - 4 + 48 * (a1 - ord('0')) - (a2 - ord('0'))) % 10\n",
    "\n",
    "A1 = Array('A1', IntSort(), IntSort())\n",
    "\n",
    "target_string = \"7759406485255323229225\"\n",
    "\n",
    "#applying the transformation\n",
    "A = A1\n",
    "for i in range(22):\n",
    "    v1 = A[i + 1] - 48\n",
    "    A = Store(A, i + 1, (v1 + second_question_function(A[i], i + A[i])) % 10 + ord('0'))\n",
    "#     s.add(A[i] == target_string[i])"
   ]
  },
  {
   "cell_type": "code",
   "execution_count": 7,
   "id": "b01cd805-68e2-46d3-b431-6c9b27266046",
   "metadata": {},
   "outputs": [
    {
     "data": {
      "text/html": [
       "<b>unsat</b>"
      ],
      "text/plain": [
       "unsat"
      ]
     },
     "execution_count": 7,
     "metadata": {},
     "output_type": "execute_result"
    }
   ],
   "source": [
    "s.check()"
   ]
  },
  {
   "cell_type": "code",
   "execution_count": null,
   "id": "9654eeab-4dde-4b1d-a802-c0436da8aa7e",
   "metadata": {},
   "outputs": [],
   "source": []
  }
 ],
 "metadata": {
  "kernelspec": {
   "display_name": "Python 3 (ipykernel)",
   "language": "python",
   "name": "python3"
  },
  "language_info": {
   "codemirror_mode": {
    "name": "ipython",
    "version": 3
   },
   "file_extension": ".py",
   "mimetype": "text/x-python",
   "name": "python",
   "nbconvert_exporter": "python",
   "pygments_lexer": "ipython3",
   "version": "3.8.10"
  }
 },
 "nbformat": 4,
 "nbformat_minor": 5
}
