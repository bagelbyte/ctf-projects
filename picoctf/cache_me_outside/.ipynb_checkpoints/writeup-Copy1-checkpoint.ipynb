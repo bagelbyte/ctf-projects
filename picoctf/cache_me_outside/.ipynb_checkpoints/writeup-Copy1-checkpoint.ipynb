{
 "cells": [
  {
   "attachments": {
    "8f3e1d5b-969c-4804-9dc4-b19fa2018ac0.png": {
     "image/png": "[encoded data removed]"
    }
   },
   "cell_type": "markdown",
   "id": "5459b162-e26f-4710-b695-f90a36e7a181",
   "metadata": {
    "tags": []
   },
   "source": [
    "# Cache Me Outside\n",
    "\n",
    "### Part 1 - The intials\n",
    "\n",
    "We start by looking at the things we can see easily. \n",
    "\n",
    "![image.png](attachment:8f3e1d5b-969c-4804-9dc4-b19fa2018ac0.png)\n",
    "\n",
    "Alright so allegedly we are allowed to edit one byte in the program, and we can pass it an address and value. So this is where we are at\n",
    "\n",
    "> #### What we know\n",
    "> * can provide at least 2 inputs to the program\n",
    "    * one is allegedly an address\n",
    "    * one is allegedly a value that gets placed at that address?\n",
    ">\n",
    "> #### What we mostly dont know\n",
    "> * what is being done with the 2 inputs\n",
    "    * assuming the inputs correspond to an address and value, how are they being translated/used \n",
    "    \n",
    "\n",
    "Lets also look at the Makefile\n",
    "```markdown\n",
    "all:\n",
    "\tgcc -Xlinker -rpath=./ -Wall -m64 -pedantic -no-pie --std=gnu99 -o heapedit heapedit.c\n",
    "\n",
    "clean:\n",
    "\trm heapedit\n",
    "```\n",
    "soo not a lot going on here, but lets break down some of the flags that are used here\n",
    "\n",
    "* -Xlinker -rpath=./ -- from reading https://flameeyes.blog/2010/06/20/the-why-and-how-of-rpath/ quickly and knowing the files that were provided for this challenge, it looks like this flag was introduced to allow symbols to be resolved to `libc.so.6`. \n",
    "* [-m64][1] -- 64 bit environment\n",
    "* [-no-pie][2] -- Don't produce a dynamically linked position independent executable\n",
    "    \n",
    "[1]: https://linux.die.net/man/1/gcc\n",
    "[2]: https://man7.org/linux/man-pages/man1/gcc.1.html\n",
    "\n",
    "\n",
    "So update our list\n",
    "> #### What we know\n",
    "> * can provide at least 2 inputs to the program\n",
    ">    * one is allegedly an address\n",
    ">    * one is allegedly a value that gets placed at that address?\n",
    "> * running on 64 bit system (probably)\n",
    "> * because PIE is a precondition for ASLR, we know that the addresses should stay the same throughout executions of the program. this also makes sense within what is reasonable for this challenge \n",
    "> \n",
    "> #### What we mostly dont know\n",
    "> * what is being done with the 2 inputs\n",
    ">    * assuming the inputs correspond to an address and value, how are they being translated/used \n",
    "\n",
    "\n",
    "At this point, we have a few options that we can go with\n",
    "1) try and throw random junk at the program. we know that we may be able to edit a byte, so eventually we might get back something\n",
    "2) start looking into the `heapedit` or `libc.so.6` binaries that we were given\n",
    "\n",
    "We are going to start off by looking at `heapedit` because it is the program that is running, and presumably `libc.so.6` contains the implementation for some function that `heapedit` is using. So we are going to look first at the main function in ghidra \n",
    "\n",
    "\n",
    "```c\n",
    "undefined8 main(void)\n",
    "\n",
    "{\n",
    "  long in_FS_OFFSET;\n",
    "  undefined local_a9;\n",
    "  int local_a8;\n",
    "  int local_a4;\n",
    "  undefined8 *local_a0;\n",
    "  undefined8 *local_98;\n",
    "  FILE *local_90;\n",
    "  undefined8 *local_88;\n",
    "  void *local_80;\n",
    "  undefined8 local_78;\n",
    "  undefined8 local_70;\n",
    "  undefined8 local_68;\n",
    "  undefined local_60;\n",
    "  char local_58 [72];\n",
    "  long local_10;\n",
    "  \n",
    "  local_10 = *(long *)(in_FS_OFFSET + 0x28);\n",
    "  setbuf(stdout,(char *)0x0);\n",
    "  local_90 = fopen(\"flag.txt\",\"r\");\n",
    "  fgets(local_58,0x40,local_90);\n",
    "  local_78 = 0x2073692073696874;\n",
    "  local_70 = 0x6d6f646e61722061;\n",
    "  local_68 = 0x2e676e6972747320;\n",
    "  local_60 = 0;\n",
    "  local_a0 = (undefined8 *)0x0;\n",
    "  local_a4 = 0;\n",
    "  while (local_a4 < 7) {\n",
    "    local_98 = (undefined8 *)malloc(0x80);\n",
    "    if (local_a0 == (undefined8 *)0x0) {\n",
    "      local_a0 = local_98;\n",
    "    }\n",
    "    *local_98 = 0x73746172676e6f43;\n",
    "    local_98[1] = 0x662072756f592021;\n",
    "    local_98[2] = 0x203a73692067616c;\n",
    "    *(undefined *)(local_98 + 3) = 0;\n",
    "    strcat((char *)local_98,local_58);\n",
    "    local_a4 = local_a4 + 1;\n",
    "  }\n",
    "  local_88 = (undefined8 *)malloc(0x80);\n",
    "  *local_88 = 0x5420217972726f53;\n",
    "  local_88[1] = 0x276e6f7720736968;\n",
    "  local_88[2] = 0x7920706c65682074;\n",
    "  *(undefined4 *)(local_88 + 3) = 0x203a756f;\n",
    "  *(undefined *)((long)local_88 + 0x1c) = 0;\n",
    "  strcat((char *)local_88,(char *)&local_78);\n",
    "  free(local_98);\n",
    "  free(local_88);\n",
    "  local_a8 = 0;\n",
    "  local_a9 = 0;\n",
    "  puts(\"You may edit one byte in the program.\");\n",
    "  printf(\"Address: \");\n",
    "  __isoc99_scanf(&DAT_00400b48,&local_a8);\n",
    "  printf(\"Value: \");\n",
    "  __isoc99_scanf(&DAT_00400b53,&local_a9);\n",
    "  *(undefined *)((long)local_a8 + (long)local_a0) = local_a9;\n",
    "  local_80 = malloc(0x80);\n",
    "  puts((char *)((long)local_80 + 0x10));\n",
    "  if (local_10 != *(long *)(in_FS_OFFSET + 0x28)) {\n",
    "                    /* WARNING: Subroutine does not return */\n",
    "    __stack_chk_fail();\n",
    "  }\n",
    "  return 0;\n",
    "}\n",
    "```\n",
    "\n",
    "So we see that the first `scanf`'s format type is a `%d`, and the second's is a `%c`. So the first thing we pass to the program will be interpreted as a signed int, and the second as a character. then in `*(undefined *)((long)local_a8 + (long)local_a0) = local_a9;` the argument passed to the `%d` input will occupy `local_a8`, and the combination of that integer and some `local_a0` will be interpreted as a memory address and dereferenced, and the character we passed in the second input will be placed in that dereferenced location. \n",
    "\n",
    "We also see that the flag is being brought in and stored in a local variable `local_58` via `fgets(local_58,0x40,local_90);`.\n",
    "\n",
    "Knowing that we can change one byte, it would be nice if we could change a bit for something that wants to print a character. Luckily we have `puts((char *)((long)local_80 + 0x10));`, so potentially we could use that. \n",
    "\n",
    "Initially, lets look at targeting `local_80`. \n",
    "\n",
    "What we want is `puts((char *)((long)local_80 + 0x10))` to actually read `puts((char *)local_58)`, and to make this happen we need `((long)local_80 + 0x10) == local_58) so what we want is What we want is to alter `local_80`, such that when `(long)local_80 + 0x10` is interpreted as a memory address, we have  such that `(long)local_80 + 0x10 == (long)local_58`\n",
    "To alter `local_80 + 0x10`, we need `(long)local_a8 + (long)local_a0 == (long)local_80 + 0x10`. In this case, we have 2 things we dont know, namely `local_a0` and `local_80`. \n",
    "> Ramble incoming: interesting to note, that if we manage to create a state in which both `(long)local_a8 + (long)local_a0 == (long)local_80 + 0x10` and `(long)local_80 + 0x10 == (long)local_58`, and the operation being performed is referencing the value of `(long)local_58`, then we can say that we are doing an operation on the value of `(long)local_a8 + (long)local_a0`. Thats the resolved version of the state, I think its more goodly to look at the elements as their transformations on the state prior to the line's execution (recursively defined on prior states). So for the following lines \n",
    "```\n",
    "  *(undefined *)((long)local_a8 + (long)local_a0) = local_a9; \n",
    "  local_80 = malloc(0x80);\n",
    "  puts((char *)((long)local_80 + 0x10));\n",
    "```\n",
    "we would have state transitions\n",
    "```c\n",
    "++S0\n",
    "  *(undefined *)((long)local_a8 + (long)local_a0) = local_a9; \n",
    "++S1 = S0 + { *(undefined *)((long)[S0]local_a8 + (long)[S0]local_a0):= [S0]local_a9 } \n",
    "// because we are doing the assignment of state based on the properties of a state, we need to specify the source state in the left hand side of the assignment (*(undefined *)((long)[S0]local_a8 + (long)[S0]local_a0)). If we were not doing assignment based on state, we could have just written something like \"local_a8 := whatever\"\n",
    "  local_80 = malloc(0x80);\n",
    "++S2 = S1 + { local_80:= malloc_ptr(S1) }\n",
    "// assuming that local_80 is a globally known property of the information state of the program, and malloc_ptr is a non-state-altering function that returns some well defined value based on the state of its argument passed to the function (S1)\n",
    "  puts((char *)((long)local_80 + 0x10));\n",
    "++S3 = S2\n",
    "//theres not really any explicit state assignment here, so we can just write it liek it was\n",
    "```\n",
    "This series of transitions describe why the state got to where it is. an interesting property of these states may be variable equivalences, such as some $a==b for a,b \\in S$ where S is the memory state and a and b are properties or memory regions of S. What would be interesting is say we notice the property in $S1$ that `*(undefined *)((long)[S0]local_a8 + (long)[S0]local_a0) == [S0]local_a9` (which we will call $P1$). in the transition from $S1$ to $S2$, how is this property affected? What of the state properties are preserved through the various transformations is an interesting topic.... \n",
    "In this case, $P1$ is preserved from $S1$ to $S2$, as well as $S2$ to $S3$. so property $P1$ is a property of all states $P_{1} \\in \\{ S_{1},S_{2},S_{3} \\}$\n",
    "\n",
    "\n",
    "For the moment, we are going to ignore that we dont know what `local_58` is, but we will come back to it\n",
    "\n",
    "### `local_80`\n",
    "\n",
    "`local_80` will be obtained by what is given back from malloc. \n"
   ]
  },
  {
   "cell_type": "code",
   "execution_count": 1,
   "id": "11d054a3-55d0-4fbf-9a62-f2b649595e1b",
   "metadata": {
    "tags": []
   },
   "outputs": [],
   "source": [
    "from pwn import *"
   ]
  },
  {
   "cell_type": "code",
   "execution_count": 2,
   "id": "ccc90197-9e26-48da-8963-20bc4284ddc8",
   "metadata": {
    "tags": []
   },
   "outputs": [
    {
     "name": "stdout",
     "output_type": "stream",
     "text": [
      "[x] Opening connection to mercury.picoctf.net on port 10097\n",
      "[x] Opening connection to mercury.picoctf.net on port 10097: Trying 18.189.209.142\n",
      "[+] Opening connection to mercury.picoctf.net on port 10097: Done\n"
     ]
    }
   ],
   "source": [
    "io = remote(\"mercury.picoctf.net\", 10097)"
   ]
  },
  {
   "cell_type": "code",
   "execution_count": 3,
   "id": "36c65d99-50d3-46e1-a42d-7dec7e8f3181",
   "metadata": {
    "tags": []
   },
   "outputs": [
    {
     "name": "stdout",
     "output_type": "stream",
     "text": [
      "[*] Switching to interactive mode\n"
     ]
    },
    {
     "name": "stderr",
     "output_type": "stream",
     "text": [
      "Exception in thread Thread-8:\n",
      "Traceback (most recent call last):\n",
      "  File \"/usr/lib/python3.8/threading.py\", line 932, in _bootstrap_inner\n",
      "    self.run()\n",
      "  File \"/usr/lib/python3.8/threading.py\", line 870, in run\n",
      "    self._target(*self._args, **self._kwargs)\n",
      "  File \"/home/bork/.local/lib/python3.8/site-packages/pwnlib/tubes/tube.py\", line 867, in recv_thread\n",
      "    stdout.write(cur)\n",
      "  File \"/home/bork/.local/lib/python3.8/site-packages/ipykernel/iostream.py\", line 511, in write\n",
      "    raise TypeError(\n",
      "TypeError: write() argument must be str, not <class 'bytes'>\n"
     ]
    }
   ],
   "source": []
  },
  {
   "cell_type": "markdown",
   "id": "bcd9b635-0ad9-4e46-ac8e-64c6e2786477",
   "metadata": {},
   "source": [
    "$\\hat{Y}$"
   ]
  },
  {
   "cell_type": "markdown",
   "id": "0ffd05b0-b7b7-4860-99d8-7f0900b9f3d3",
   "metadata": {},
   "source": [
    "`__isoc99_scanf(&DAT_00400b48,&local_a8)`$:  S_{0} -> S_{0} \\bigcup \\{local\\_a8==rand(i) | rand(i) \\in SignedInt \\}$"
   ]
  },
  {
   "cell_type": "code",
   "execution_count": null,
   "id": "9b1314c5-6030-4f1f-9f34-6c8583cce808",
   "metadata": {},
   "outputs": [],
   "source": []
  }
 ],
 "metadata": {
  "kernelspec": {
   "display_name": "Python 3 (ipykernel)",
   "language": "python",
   "name": "python3"
  },
  "language_info": {
   "codemirror_mode": {
    "name": "ipython",
    "version": 3
   },
   "file_extension": ".py",
   "mimetype": "text/x-python",
   "name": "python",
   "nbconvert_exporter": "python",
   "pygments_lexer": "ipython3",
   "version": "3.8.10"
  }
 },
 "nbformat": 4,
 "nbformat_minor": 5
}
