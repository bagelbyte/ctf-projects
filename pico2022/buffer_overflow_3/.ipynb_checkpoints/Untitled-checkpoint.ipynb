{
 "cells": [
  {
   "cell_type": "code",
   "execution_count": 1,
   "id": "84836cd5-20bb-46b8-9e53-1589e71a8c2a",
   "metadata": {},
   "outputs": [],
   "source": [
    "import angr, claripy, monkeyhex"
   ]
  },
  {
   "cell_type": "code",
   "execution_count": null,
   "id": "3a6d5536-793a-413e-8324-0ecf1298c4e5",
   "metadata": {},
   "outputs": [],
   "source": [
    "p = angr.Project"
   ]
  }
 ],
 "metadata": {
  "kernelspec": {
   "display_name": "Python 3 (ipykernel)",
   "language": "python",
   "name": "python3"
  },
  "language_info": {
   "codemirror_mode": {
    "name": "ipython",
    "version": 3
   },
   "file_extension": ".py",
   "mimetype": "text/x-python",
   "name": "python",
   "nbconvert_exporter": "python",
   "pygments_lexer": "ipython3",
   "version": "3.8.10"
  }
 },
 "nbformat": 4,
 "nbformat_minor": 5
}
