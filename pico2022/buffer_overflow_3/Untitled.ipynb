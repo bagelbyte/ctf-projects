{
 "cells": [
  {
   "cell_type": "code",
   "execution_count": 2,
   "id": "84836cd5-20bb-46b8-9e53-1589e71a8c2a",
   "metadata": {},
   "outputs": [],
   "source": [
    "import angr, claripy, monkeyhex"
   ]
  },
  {
   "cell_type": "code",
   "execution_count": 3,
   "id": "3a6d5536-793a-413e-8324-0ecf1298c4e5",
   "metadata": {},
   "outputs": [],
   "source": [
    "p = angr.Project('./vuln', auto_load_libs=False)"
   ]
  },
  {
   "cell_type": "code",
   "execution_count": null,
   "id": "5508a2bf-b30e-4cf2-9827-4f22a7fc462c",
   "metadata": {},
   "outputs": [],
   "source": [
    "simgr = p.factory.simgr(p.factory.entry_state("
   ]
  }
 ],
 "metadata": {
  "kernelspec": {
   "display_name": "Python 3 (ipykernel)",
   "language": "python",
   "name": "python3"
  },
  "language_info": {
   "codemirror_mode": {
    "name": "ipython",
    "version": 3
   },
   "file_extension": ".py",
   "mimetype": "text/x-python",
   "name": "python",
   "nbconvert_exporter": "python",
   "pygments_lexer": "ipython3",
   "version": "3.8.10"
  }
 },
 "nbformat": 4,
 "nbformat_minor": 5
}
